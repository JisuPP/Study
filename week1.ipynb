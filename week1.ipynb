{
 "cells": [
  {
   "cell_type": "markdown",
   "metadata": {},
   "source": [
    "# 1주차\n"
   ]
  },
  {
   "attachments": {
    "image.png": {
     "image/png": "[encoded data removed]"
    }
   },
   "cell_type": "markdown",
   "metadata": {},
   "source": [
    "### 안전지대\n",
    "\n",
    "다음 그림과 같이 지뢰가 있는 지역과 지뢰에 인접한 위, 아래, 좌, 우 대각선 칸을 모두 위험지역으로 분류합니다.\n",
    "\n",
    "![image.png](attachment:image.png)\n",
    "\n",
    "지뢰는 2차원 배열 board에 1로 표시되어 있고 board에는 지뢰가 매설 된 지역 1과, 지뢰가 없는 지역 0만 존재합니다.\n",
    "지뢰가 매설된 지역의 지도 board가 매개변수로 주어질 때, 안전한 지역의 칸 수를 return하도록 solution 함수를 완성해주세요.\n",
    "\n",
    "- board는 n * n 배열입니다.\n",
    "- 1 ≤ n ≤ 100\n",
    "- 지뢰는 1로 표시되어 있습니다.\n",
    "- board에는 지뢰가 있는 지역 1과 지뢰가 없는 지역 0만 존재합니다."
   ]
  },
  {
   "cell_type": "code",
   "execution_count": 2,
   "metadata": {},
   "outputs": [],
   "source": [
    "board = [[0, 0, 0, 0, 0], [0, 0, 0, 0, 0], [0, 0, 0, 0, 0], [0, 0, 1, 1, 0], [0, 0, 0, 0, 0]]"
   ]
  },
  {
   "cell_type": "code",
   "execution_count": 3,
   "metadata": {},
   "outputs": [
    {
     "name": "stdout",
     "output_type": "stream",
     "text": [
      "5\n"
     ]
    }
   ],
   "source": [
    "n = len(board)\n",
    "print(n)"
   ]
  },
  {
   "cell_type": "code",
   "execution_count": 5,
   "metadata": {},
   "outputs": [
    {
     "data": {
      "text/plain": [
       "13"
      ]
     },
     "execution_count": 5,
     "metadata": {},
     "output_type": "execute_result"
    }
   ],
   "source": [
    "def solution(board):\n",
    "    n = len(board)\n",
    "    not_safe = 0\n",
    "\n",
    "    for i in range(n):\n",
    "        for j in range(n):\n",
    "            if board[i][j] == 1:\n",
    "                not_safe = not_safe + 1\n",
    "            else:\n",
    "                for x in [-1, 0, 1]:\n",
    "                    for y in [-1, 0, 1]:\n",
    "                            if x == 0 and y == 0:\n",
    "                                 continue\n",
    "                            else:\n",
    "                                ix = i + x\n",
    "                                jy = j + y\n",
    "                                if (0 <= ix < n) and (0 <= jy <n) and board[ix][jy] == 1:\n",
    "                                    not_safe = not_safe + 1\n",
    "                                    break\n",
    "                                    \n",
    "    return (n*n) - not_safe\n",
    "\n",
    "                \n",
    "solution(board)\n",
    "            "
   ]
  },
  {
   "cell_type": "markdown",
   "metadata": {},
   "source": [
    "### 분수의 덧셈\n",
    "\n",
    "첫 번째 분수의 분자와 분모를 뜻하는 numer1, denom1, 두 번째 분수의 분자와 분모를 뜻하는 numer2, denom2가 매개변수로 주어집니다. 두 분수를 더한 값을 기약 분수로 나타냈을 때 분자와 분모를 순서대로 담은 배열을 return 하도록 solution 함수를 완성해보세요.\n",
    "\n",
    "- 0 < numer1, denom1, numer2, denom2 < 1,000"
   ]
  },
  {
   "cell_type": "code",
   "execution_count": 24,
   "metadata": {},
   "outputs": [],
   "source": [
    "numer1 = 9\n",
    "denom1 = 2\n",
    "numer2 = 1\n",
    "denom2 = 3"
   ]
  },
  {
   "cell_type": "code",
   "execution_count": 31,
   "metadata": {},
   "outputs": [
    {
     "data": {
      "text/plain": [
       "[29, 6]"
      ]
     },
     "execution_count": 31,
     "metadata": {},
     "output_type": "execute_result"
    }
   ],
   "source": [
    "import math\n",
    "\n",
    "def solution(numer1, denom1, numer2, denom2):\n",
    "\n",
    "    y = (numer1*denom2)+(numer2*denom1)\n",
    "    x = (denom1*denom2)\n",
    "\n",
    "    n = math.gcd(y, x)\n",
    "    \n",
    "    return [y//n, x//n]\n",
    "\n",
    "solution(numer1, denom1, numer2, denom2)"
   ]
  },
  {
   "cell_type": "markdown",
   "metadata": {},
   "source": [
    "### 3월에 태어난 여성 회원 목록 출력하기\n",
    "\n",
    "다음은 식당 리뷰 사이트의 회원 정보를 담은 MEMBER_PROFILE 테이블입니다. MEMBER_PROFILE 테이블은 다음과 같으며 MEMBER_ID, MEMBER_NAME, TLNO, GENDER, DATE_OF_BIRTH는 회원 ID, 회원 이름, 회원 연락처, 성별, 생년월일을 의미합니다.\n",
    "\n",
    "|Column name | Type | Nullable|\n",
    "|---|---|---|\n",
    "|MEMBER_ID | VARCHAR(100)| FALSE|\n",
    "|MEMBER_NAME | VARCHAR(50) | FALSE|\n",
    "|TLNO | VARCHAR(50)|\tTRUE|\n",
    "|GENDER | VARCHAR(1)\t|TRUE|\n",
    "|DATE_OF_BIRTH | DATE | TRUE|\n",
    "\n",
    "MEMBER_PROFILE 테이블에서 생일이 3월인 여성 회원의 ID, 이름, 성별, 생년월일을 조회하는 SQL문을 작성해주세요. 이때 전화번호가 NULL인 경우는 출력대상에서 제외시켜 주시고, 결과는 회원ID를 기준으로 오름차순 정렬해주세요.\n"
   ]
  },
  {
   "cell_type": "code",
   "execution_count": null,
   "metadata": {
    "vscode": {
     "languageId": "sql"
    }
   },
   "outputs": [],
   "source": [
    "SELECT MEMBER_ID, MEMBER_NAME, GENDER, DATE_OF_BIRTH\n",
    "FROM MEMBER_PROFILE\n",
    "WHERE SUBSTRING(DATE_OF_BIRTH, 6, 2) = 03\n",
    "    AND GENDER = W\n",
    "    AND TLNO IS NOT NULL\n",
    "ORDER BY MEMBER_ID ASC;"
   ]
  },
  {
   "cell_type": "markdown",
   "metadata": {},
   "source": [
    "### 인기있는 아이스크림\n",
    "\n",
    "FIRST_HALF 테이블은 아이스크림 가게의 상반기 주문 정보를 담은 테이블입니다.FIRST_HALF 테이블 구조는 다음과 같으며, SHIPMENT_ID, FLAVOR, TOTAL_ORDER는 각각 아이스크림 공장에서 아이스크림 가게까지의 출하 번호, 아이스크림 맛, 상반기 아이스크림 총주문량을 나타냅니다.\n",
    "\n",
    "NAME|\tTYPE|\tNULLABLE\n",
    "|---|---|---|\n",
    "SHIPMENT_ID|\tINT(N)\t|FALSE\n",
    "FLAVOR|\tVARCHAR(N)\t|FALSE\n",
    "TOTAL_ORDER|\tINT(N)\t|FALSE\n",
    "\n",
    "상반기에 판매된 아이스크림의 맛을 총주문량을 기준으로 내림차순 정렬하고 총주문량이 같다면 출하 번호를 기준으로 오름차순 정렬하여 조회하는 SQL 문을 작성해주세요."
   ]
  },
  {
   "cell_type": "code",
   "execution_count": null,
   "metadata": {
    "vscode": {
     "languageId": "sql"
    }
   },
   "outputs": [],
   "source": [
    "SELECT FLAVOR\n",
    "FROM FIRST_HALF\n",
    "ORDER BY TOTAL_ORDER DESC , SHIPMENT_ID ASC;"
   ]
  }
 ],
 "metadata": {
  "kernelspec": {
   "display_name": "Python 3",
   "language": "python",
   "name": "python3"
  },
  "language_info": {
   "codemirror_mode": {
    "name": "ipython",
    "version": 3
   },
   "file_extension": ".py",
   "mimetype": "text/x-python",
   "name": "python",
   "nbconvert_exporter": "python",
   "pygments_lexer": "ipython3",
   "version": "3.10.10"
  }
 },
 "nbformat": 4,
 "nbformat_minor": 2
}
