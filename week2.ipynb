{
 "cells": [
  {
   "cell_type": "markdown",
   "metadata": {},
   "source": [
    "# 2주차\n"
   ]
  },
  {
   "cell_type": "markdown",
   "metadata": {},
   "source": [
    "### 올바른 괄호\n",
    "\n",
    "괄호가 바르게 짝지어졌다는 것은 '(' 문자로 열렸으면 반드시 짝지어서 ')' 문자로 닫혀야 한다는 뜻입니다. 예를 들어\n",
    "\n",
    "- \"()()\" 또는 \"(())()\" 는 올바른 괄호입니다.\n",
    "- \")()(\" 또는 \"(()(\" 는 올바르지 않은 괄호입니다.\n",
    "\n",
    "'(' 또는 ')' 로만 이루어진 문자열 s가 주어졌을 때, 문자열 s가 올바른 괄호이면 true를 return 하고, 올바르지 않은 괄호이면 false를 return 하는 solution 함수를 완성해 주세요.\n",
    "\n",
    "- 문자열 s의 길이 : 100,000 이하의 자연수\n",
    "- 문자열 s는 '(' 또는 ')' 로만 이루어져 있습니다"
   ]
  },
  {
   "cell_type": "code",
   "execution_count": 7,
   "metadata": {},
   "outputs": [],
   "source": [
    "def solution(s):\n",
    "    answer = 0\n",
    "    for i in s:\n",
    "        if i == '(':\n",
    "            answer += 1\n",
    "        else:\n",
    "            answer -= 1\n",
    "            if answer < 0:\n",
    "                return False\n",
    "            else:\n",
    "                continue\n",
    "    if answer == 0:\n",
    "        return True\n",
    "    else:\n",
    "        return False\n",
    "                "
   ]
  },
  {
   "cell_type": "code",
   "execution_count": 3,
   "metadata": {},
   "outputs": [
    {
     "data": {
      "text/plain": [
       "True"
      ]
     },
     "execution_count": 3,
     "metadata": {},
     "output_type": "execute_result"
    }
   ],
   "source": [
    "solution(\"()()\")"
   ]
  },
  {
   "cell_type": "markdown",
   "metadata": {},
   "source": [
    "### 최솟값 만들기\n",
    "\n",
    "길이가 같은 배열 A, B 두개가 있습니다. 각 배열은 자연수로 이루어져 있습니다.\n",
    "배열 A, B에서 각각 한 개의 숫자를 뽑아 두 수를 곱합니다. 이러한 과정을 배열의 길이만큼 반복하며, 두 수를 곱한 값을 누적하여 더합니다. 이때 최종적으로 누적된 값이 최소가 되도록 만드는 것이 목표입니다. (단, 각 배열에서 k번째 숫자를 뽑았다면 다음에 k번째 숫자는 다시 뽑을 수 없습니다.)\n",
    "\n",
    "예를 들어 A = [1, 4, 2] , B = [5, 4, 4] 라면\n",
    "\n",
    "- A에서 첫번째 숫자인 1, B에서 첫번째 숫자인 5를 뽑아 곱하여 더합니다. (누적된 값 : 0 + 5(1x5) = 5)\n",
    "- A에서 두번째 숫자인 4, B에서 세번째 숫자인 4를 뽑아 곱하여 더합니다. (누적된 값 : 5 + 16(4x4) = 21)\n",
    "- A에서 세번째 숫자인 2, B에서 두번째 숫자인 4를 뽑아 곱하여 더합니다. (누적된 값 : 21 + 8(2x4) = 29)\n",
    "즉, 이 경우가 최소가 되므로 29를 return 합니다.\n",
    "\n",
    "배열 A, B가 주어질 때 최종적으로 누적된 최솟값을 return 하는 solution 함수를 완성해 주세요.\n",
    "\n",
    "- 배열 A, B의 크기 : 1,000 이하의 자연수\n",
    "- 배열 A, B의 원소의 크기 : 1,000 이하의 자연수"
   ]
  },
  {
   "cell_type": "code",
   "execution_count": 8,
   "metadata": {},
   "outputs": [],
   "source": [
    "A = [1, 4, 2]\n",
    "B = [5, 4, 4]"
   ]
  },
  {
   "cell_type": "code",
   "execution_count": 11,
   "metadata": {},
   "outputs": [
    {
     "name": "stdout",
     "output_type": "stream",
     "text": [
      "29\n"
     ]
    }
   ],
   "source": [
    "def solution(A,B):\n",
    "    n = len(A)\n",
    "    answer = 0\n",
    "    \n",
    "    A.sort()\n",
    "    B.sort(reverse=True)\n",
    "\n",
    "    for i in range(0, n):\n",
    "        answer = answer + (A[i]*B[i])\n",
    "\n",
    "    return answer\n",
    "\n",
    "print(solution(A,B))"
   ]
  },
  {
   "cell_type": "markdown",
   "metadata": {},
   "source": [
    "### 흉부외과 또는 일반외과 의사 목록 출력하기\n",
    "\n",
    "다음은 종합병원에 속한 의사 정보를 담은DOCTOR 테이블입니다. DOCTOR 테이블은 다음과 같으며 DR_NAME, DR_ID, LCNS_NO, HIRE_YMD, MCDP_CD, TLNO는 각각 의사이름, 의사ID, 면허번호, 고용일자, 진료과코드, 전화번호를 나타냅니다.\n",
    "\n",
    "Column name\t|Type\t|Nullable\n",
    "|---|---|---|\n",
    "DR_NAME|VARCHAR(20)\t|FALSE\n",
    "DR_ID|\tVARCHAR(10)\t|FALSE\n",
    "LCNS_NO\t|VARCHAR(30)|\tFALSE\n",
    "HIRE_YMD\t|DATE\t|FALSE\n",
    "MCDP_CD\t|VARCHAR(6)|\tTRUE\n",
    "TLNO\t|VARCHAR(50)\t|RUE\n",
    "\n",
    "DOCTOR 테이블에서 진료과가 흉부외과(CS)이거나 일반외과(GS)인 의사의 이름, 의사ID, 진료과, 고용일자를 조회하는 SQL문을 작성해주세요. 이때 결과는 고용일자를 기준으로 내림차순 정렬하고, 고용일자가 같다면 이름을 기준으로 오름차순 정렬해주세요."
   ]
  },
  {
   "cell_type": "code",
   "execution_count": null,
   "metadata": {
    "vscode": {
     "languageId": "sql"
    }
   },
   "outputs": [],
   "source": [
    "SELECT DR_NAME, DR_ID, MCDP_CD, DATE_FORMAT(HIRE_YMD, '%Y-%m-%d') AS HIRE_YMD\n",
    "FROM DOCTOR\n",
    "WHERE MCDP_CD IN ('CS', 'GS')\n",
    "ORDER BY HIRE_YMD DESC, DR_NAME ASC;"
   ]
  },
  {
   "cell_type": "markdown",
   "metadata": {},
   "source": [
    "### 12세 이하인 여자 환자 목록 출력하기\n",
    "\n",
    "다음은 종합병원에 등록된 환자정보를 담은 PATIENT 테이블입니다. PATIENT 테이블은 다음과 같으며 PT_NO, PT_NAME, GEND_CD, AGE, TLNO는 각각 환자번호, 환자이름, 성별코드, 나이, 전화번호를 의미합니다.\n",
    "\n",
    "Column name\t|Type|Nullable\n",
    "|---|---|---|\n",
    "PT_NO|\tVARCHAR(10)\t|FALSE\n",
    "PT_NAME|\tVARCHAR(20)|FALSE\n",
    "GEND_CD\t|VARCHAR(1)|\tFALSE\n",
    "AGE|\tINTEGER\t|FALSE\n",
    "TLNO\t|VARCHAR(50)|\tTRUE\n",
    "\n",
    "PATIENT 테이블에서 12세 이하인 여자환자의 환자이름, 환자번호, 성별코드, 나이, 전화번호를 조회하는 SQL문을 작성해주세요. 이때 전화번호가 없는 경우, 'NONE'으로 출력시켜 주시고 결과는 나이를 기준으로 내림차순 정렬하고, 나이 같다면 환자이름을 기준으로 오름차순 정렬해주세요."
   ]
  },
  {
   "cell_type": "code",
   "execution_count": null,
   "metadata": {
    "vscode": {
     "languageId": "sql"
    }
   },
   "outputs": [],
   "source": [
    "SELECT PT_NAME, PT_NO, GEND_CD, AGE,\n",
    "    IF (TLNO IS NULL, 'NONE', TLNO) AS TLNO\n",
    "FROM PATIENT\n",
    "WHERE AGE <= 12\n",
    "    AND GEND_CD = 'W'\n",
    "ORDER BY AGE DESC, PT_NAME ASC;"
   ]
  },
  {
   "cell_type": "markdown",
   "metadata": {},
   "source": [
    "# 가장 비싼 상품 구하기\n",
    "\n",
    "다음은 어느 의류 쇼핑몰에서 판매 중인 상품들의 정보를 담은 PRODUCT 테이블입니다. PRODUCT 테이블은 아래와 같은 구조로 되어있으며, PRODUCT_ID, PRODUCT_CODE, PRICE는 각각 상품 ID, 상품코드, 판매가를 나타냅니다.\n",
    "\n",
    "Column name|\tType\t|Nullable\n",
    "|---|---|---|\n",
    "PRODUCT_ID|\tINTEGER|\tFALSE\n",
    "PRODUCT_CODE|\tVARCHAR(8)\t|FALSE\n",
    "PRICE|INTEGER|\tFALSE\n",
    "\n",
    "상품 별로 중복되지 않는 8자리 상품코드 값을 가지며, 앞 2자리는 카테고리 코드를 의미합니다.\n",
    "\n",
    "PRODUCT 테이블에서 판매 중인 상품 중 가장 높은 판매가를 출력하는 SQL문을 작성해주세요. 이때 컬럼명은 MAX_PRICE로 지정해주세요."
   ]
  },
  {
   "cell_type": "code",
   "execution_count": null,
   "metadata": {
    "vscode": {
     "languageId": "sql"
    }
   },
   "outputs": [],
   "source": [
    "SELECT MAX(PRICE) AS MAX_PRICE\n",
    "FROM PRODUCT;"
   ]
  },
  {
   "cell_type": "markdown",
   "metadata": {},
   "source": [
    "# 가격이 제일 비싼 식품의 정보 출력하기\n",
    "\n",
    "다음은 식품의 정보를 담은 FOOD_PRODUCT 테이블입니다. FOOD_PRODUCT 테이블은 다음과 같으며 PRODUCT_ID, PRODUCT_NAME, PRODUCT_CD, CATEGORY, PRICE는 식품 ID, 식품 이름, 식품 코드, 식품분류, 식품 가격을 의미합니다.\n",
    "\n",
    "Column name\t|Type\t|Nullable\n",
    "|---|---|---|\n",
    "PRODUCT_ID|VARCHAR(10)\t|FALSE\n",
    "PRODUCT_NAME|\tVARCHAR(50)|\tFALSE\n",
    "PRODUCT_CD\t|VARCHAR(10)|TRUE\n",
    "CATEGORY\t|VARCHAR(10)\t|TRUE\n",
    "PRICE|\tNUMBER\t|TRUE\n",
    "\n",
    "FOOD_PRODUCT 테이블에서 가격이 제일 비싼 식품의 식품 ID, 식품 이름, 식품 코드, 식품분류, 식품 가격을 조회하는 SQL문을 작성해주세요.\n"
   ]
  },
  {
   "cell_type": "code",
   "execution_count": null,
   "metadata": {
    "vscode": {
     "languageId": "sql"
    }
   },
   "outputs": [],
   "source": [
    "SELECT PRODUCT_ID, PRODUCT_NAME, PRODUCT_CD, CATEGORY, PRICE\n",
    "FROM FOOD_PRODUCT\n",
    "WHERE PRICE = (SELECT MAX(PRICE) AS PRICE FROM FOOD_PRODUCT);"
   ]
  },
  {
   "cell_type": "markdown",
   "metadata": {},
   "source": [
    "# 최댓값 구하기\n",
    "\n",
    "ANIMAL_INS 테이블은 동물 보호소에 들어온 동물의 정보를 담은 테이블입니다. ANIMAL_INS 테이블 구조는 다음과 같으며, ANIMAL_ID, ANIMAL_TYPE, DATETIME, INTAKE_CONDITION, NAME, SEX_UPON_INTAKE는 각각 동물의 아이디, 생물 종, 보호 시작일, 보호 시작 시 상태, 이름, 성별 및 중성화 여부를 나타냅니다.\n",
    "\n",
    "NAME\t|TYPE\t|NULLABLE\n",
    "|---|---|---|\n",
    "ANIMAL_ID|\tVARCHAR(N)|FALSE\n",
    "ANIMAL_TYPE|VARCHAR(N)\t|FALSE\n",
    "DATETIME|\tDATETIME|\tFALSE\n",
    "INTAKE_CONDITION|VARCHAR(N)|\tFALSE\n",
    "NAME\t|VARCHAR(N)|\tTRUE\n",
    "SEX_UPON_INTAKE|\tVARCHAR(N)|\tFALSE\n",
    "\n",
    "가장 최근에 들어온 동물은 언제 들어왔는지 조회하는 SQL 문을 작성해주세요."
   ]
  },
  {
   "cell_type": "code",
   "execution_count": null,
   "metadata": {
    "vscode": {
     "languageId": "sql"
    }
   },
   "outputs": [],
   "source": [
    "SELECT MAX(DATETIME) AS 시간\n",
    "FROM ANIMAL_INS;"
   ]
  }
 ],
 "metadata": {
  "kernelspec": {
   "display_name": "Python 3",
   "language": "python",
   "name": "python3"
  },
  "language_info": {
   "codemirror_mode": {
    "name": "ipython",
    "version": 3
   },
   "file_extension": ".py",
   "mimetype": "text/x-python",
   "name": "python",
   "nbconvert_exporter": "python",
   "pygments_lexer": "ipython3",
   "version": "3.10.10"
  }
 },
 "nbformat": 4,
 "nbformat_minor": 2
}
